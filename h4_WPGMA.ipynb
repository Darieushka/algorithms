{
 "cells": [
  {
   "cell_type": "code",
   "execution_count": 87,
   "metadata": {},
   "outputs": [
    {
     "name": "stdout",
     "output_type": "stream",
     "text": [
      "(A:7.25, (B:4.0, (C:2.0, D:2.0):2.0):3.25)\n",
      "\n",
      "(F:4.5, ((D:2.5, E:2.5):1.5, (B:3.0, (A:2.0, C:2.0):1.0):1.0):0.5)\n"
     ]
    }
   ],
   "source": [
    "import numpy as np\n",
    "\n",
    "def step(M,n,s,p,h,encoding):\n",
    "    k=np.nanargmin(M)\n",
    "    k_value=np.nanmin(M)\n",
    "    i=k//n\n",
    "    j=k-i*n\n",
    "    s.append(s[i]+s[j])\n",
    "    encoding[s[i]+s[j]]=k_value/2\n",
    "    h.append('('+str(h[i])+':'+str(k_value/2-encoding[s[i]])+', '+str(h[j])+':'+str(k_value/2-encoding[s[j]])+')')\n",
    "    s.pop(i)\n",
    "    h.pop(i)\n",
    "    s.pop(j-1)\n",
    "    h.pop(j-1)\n",
    "    uu=[]\n",
    "    for r in range(0,n):\n",
    "        if r!=i and r!=j:\n",
    "            u=(M[min(i,r),max(i,r)]+M[min(j,r),max(j,r)])/2\n",
    "            uu.append(u)\n",
    "    uu.append(np.nan)\n",
    "    M=np.delete(M, j, 0)\n",
    "    M=np.delete(M, i, 0)\n",
    "    M=np.delete(M, j, 1)\n",
    "    M=np.delete(M, i, 1)\n",
    "    M=np.insert(M, n-2, np.nan, axis=0)\n",
    "    M=np.insert(M, n-2, uu, axis=1)\n",
    "    return M, n-1,s,k_value,h,encoding\n",
    "\n",
    "def main(s,M):    \n",
    "    encoding = {}\n",
    "    for l in s:\n",
    "        encoding[l]=0.0   \n",
    "    n=len(s)\n",
    "    h=s.copy()\n",
    "    p=0\n",
    "    while n>1:\n",
    "        M,n,s,p,h,encoding=step(M,n,s,p,h,encoding)\n",
    "    print(h[0])\n",
    "    \n",
    "s=['A','B','C','D']\n",
    "M = np.array([[np.nan,16,16,10],[np.nan, np.nan,8,8],[np.nan, np.nan,np.nan,4],[np.nan, np.nan,np.nan,np.nan]])\n",
    "main(s,M)\n",
    "print()\n",
    "\n",
    "s=['A','B','C','D','E','F']\n",
    "M = np.array([[np.nan,5,4,7,6,8],[np.nan, np.nan,7,10,9,11],[np.nan, np.nan,np.nan,7,6,8],\n",
    "              [np.nan, np.nan,np.nan,np.nan,5,9],[np.nan, np.nan,np.nan,np.nan,np.nan,8],\n",
    "              [np.nan, np.nan,np.nan,np.nan,np.nan,np.nan]])\n",
    "main(s,M)"
   ]
  }
 ],
 "metadata": {
  "kernelspec": {
   "display_name": "Python 3",
   "language": "python",
   "name": "python3"
  },
  "language_info": {
   "codemirror_mode": {
    "name": "ipython",
    "version": 3
   },
   "file_extension": ".py",
   "mimetype": "text/x-python",
   "name": "python",
   "nbconvert_exporter": "python",
   "pygments_lexer": "ipython3",
   "version": "3.5.5"
  }
 },
 "nbformat": 4,
 "nbformat_minor": 2
}
