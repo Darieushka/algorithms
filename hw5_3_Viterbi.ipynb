{
 "cells": [
  {
   "cell_type": "code",
   "execution_count": 13,
   "metadata": {},
   "outputs": [
    {
     "name": "stdout",
     "output_type": "stream",
     "text": [
      "+ + + + + + + + - - - - - - - - - - + + + + + + + + \n",
      "\n",
      "\n",
      "- + - + - + - - + + + + + + + + + + - - - - - - - - \n"
     ]
    }
   ],
   "source": [
    "\n",
    "s = 'OPOPOPOOPPPPPPPPPPOOOOOOOO'\n",
    "\n",
    "dict_1 = {'O' : 0, 'P' : 1}\n",
    "pi = [0.5, 0.5]\n",
    "dict_2 = {True: 0, False: 1}\n",
    "dict_3 = {0:'+ ', 1:'- '}\n",
    "\n",
    "def f():\n",
    "    u=[]\n",
    "    k = dict_1[s[0]]\n",
    "    D = [pi[0]*b[0][k], pi[1]*b[1][k]]\n",
    "    for n in range(1,len(s)):\n",
    "        k = dict_1[s[n]]\n",
    "        u.append([dict_2[D[0]*a[0][0]*b[0][k]>= D[1]*a[1][0]*b[0][k]], dict_2[D[0]*a[0][1]*b[1][k]>= D[1]*a[1][1]*b[1][k]]])\n",
    "        D = [max(D[0]*a[0][0]*b[0][k], D[1]*a[1][0]*b[0][k]),max(D[0]*a[0][1]*b[1][k], D[1]*a[1][1]*b[1][k])]\n",
    "    if D[0] >= D[1]:\n",
    "        r = dict_3[0]\n",
    "        k = 0\n",
    "    else:\n",
    "        r = dict_3[1]\n",
    "        k = 1\n",
    "    for i in range(len(u)-1, -1, -1):\n",
    "        k = u[i][k]\n",
    "        r = str(dict_3[k]) + r\n",
    "    print(r)\n",
    "\n",
    "\n",
    "a = [[0.8,0.2],[0.2,0.8]]\n",
    "b = [[0.5,0.5], [0.1,0.9]]\n",
    "f()\n",
    "print()\n",
    "print()\n",
    "\n",
    "a = [[0.5,0.5],[0.5,0.5]]\n",
    "b = [[0.5,0.5], [0.51,0.49]]\n",
    "f()\n"
   ]
  },
  {
   "cell_type": "code",
   "execution_count": 15,
   "metadata": {},
   "outputs": [
    {
     "name": "stdout",
     "output_type": "stream",
     "text": [
      "+ + + + + + - - - - - - \n"
     ]
    }
   ],
   "source": [
    "s = 'OPOPOPOOOOOO'\n",
    "a = [[0.8,0.2],[0.3,0.7]]\n",
    "b = [[0.5,0.5], [0.9,0.1]]\n",
    "f()"
   ]
  }
 ],
 "metadata": {
  "kernelspec": {
   "display_name": "Python 3",
   "language": "python",
   "name": "python3"
  },
  "language_info": {
   "codemirror_mode": {
    "name": "ipython",
    "version": 3
   },
   "file_extension": ".py",
   "mimetype": "text/x-python",
   "name": "python",
   "nbconvert_exporter": "python",
   "pygments_lexer": "ipython3",
   "version": "3.5.5"
  }
 },
 "nbformat": 4,
 "nbformat_minor": 2
}
